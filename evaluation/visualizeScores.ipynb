{
 "cells": [
  {
   "cell_type": "markdown",
   "metadata": {},
   "source": [
    "# Visualize output of scripts knownWords.py and hapaxCount.py"
   ]
  },
  {
   "cell_type": "markdown",
   "metadata": {},
   "source": [
    "Task 1: create bar plot of percentage of words in each of the newspaper articles that appears in one of the two Dutch lexicons of the project IMPACT (Dutch words and Dutch names). Ideally this percentage is 100% but when the articles contain OCR errors, the percentage will be lower. Lower scores can also be caused byj unknown words and names. Results are displayed in bins of 10% wide (x-axis). The y-axis contains absolute article counts. Comparison of words in the text versus words in the lexison was done case-insensitive.\n",
    "\n",
    "Data: one day of newspaper articles of the newspaper De Volkskrant (2 Jan 1965) obtained from delpher.nl"
   ]
  },
  {
   "cell_type": "code",
   "execution_count": null,
   "metadata": {
    "collapsed": true
   },
   "outputs": [],
   "source": [
    "import re\n",
    "import sys\n",
    "\n",
    "LEXICONRESULTFILENAME = \"/home/erikt/projects/teamproject2018-11/data/vk19650102/analysis3.txt\"\n",
    "LEXICONTITLE = \"Known-word percentages per article (OCR)\"\n",
    "\n",
    "def readScoreFile(fileName):\n",
    "    try: inFile = open(fileName,\"r\")\n",
    "    except Exception as e: sys.exit(\"error:\",str(e))\n",
    "    scores = []\n",
    "    for line in inFile:\n",
    "        line = line.strip()\n",
    "        fields = line.split()\n",
    "        percentageString = fields[-1]\n",
    "        scoreString = re.sub(r\"%$\",\"\",percentageString)\n",
    "        score = float(scoreString)\n",
    "        scores.append(score)\n",
    "    return(scores)\n",
    "\n",
    "lexiconScores = readScoreFile(LEXICONRESULTFILENAME)"
   ]
  },
  {
   "cell_type": "code",
   "execution_count": null,
   "metadata": {},
   "outputs": [],
   "source": [
    "import matplotlib.pyplot as plt\n",
    "\n",
    "COLORS = [\"r\",\"g\",\"b\",\"orange\",\"purple\",\"yellow\"]\n",
    "OUTPUTIMAGEFILE = \"visualizeScores.png\"\n",
    "WIDTH = 7\n",
    "\n",
    "def aggregate(numbersIn):\n",
    "    numbersOut = {}\n",
    "    for number in numbersIn:\n",
    "        roundedDown = 10*int(number/10)\n",
    "        if roundedDown == 100: roundedDown = 90\n",
    "        if not roundedDown in numbersOut: numbersOut[roundedDown] = 0\n",
    "        numbersOut[roundedDown] += 1\n",
    "    return(numbersOut)\n",
    "\n",
    "def makeLabels(buckets):\n",
    "    labels = []\n",
    "    for bucket in buckets:\n",
    "        if bucket == 90: labels.append(str(bucket)+\"-\"+str(bucket+10)+\"%\")\n",
    "        else: labels.append(str(bucket)+\"-\"+str(bucket+9)+\"%\")\n",
    "    return(labels)\n",
    "\n",
    "def makeBarPlot(data,title):\n",
    "    labels = makeLabels(list(data.keys()))\n",
    "    plt.figure(figsize=(15,8))\n",
    "    plt.rcParams.update({'font.size': 18})\n",
    "    barplot = plt.bar(list(data.keys()),list(data.values()),color=COLORS,width=WIDTH)\n",
    "    plt.title(title)\n",
    "    plt.xticks(list(data.keys()),labels)\n",
    "    plt.savefig(OUTPUTIMAGEFILE)\n",
    "    plt.show()\n",
    "\n",
    "lexiconAggregates = aggregate(lexiconScores)\n",
    "makeBarPlot(lexiconAggregates,LEXICONTITLE)"
   ]
  },
  {
   "cell_type": "markdown",
   "metadata": {},
   "source": [
    "Task 2: create a bar plot of the percentage of unique words in each of the newspaper articles. Ideally this percentage is 0% but when the articles contain OCR errors, the percentage will be higher. Higher scores can also be caused by low-frequency words and names which appear in just one article. In order to determine which words were unique, all words in the data were considered. Results are displayed in bins of 10% wide (x-axis). The y-axis contains absolute article counts. Comparison of words in the text was done case-insensitive.\n",
    "\n",
    "Data: one day of newspaper articles of the newspaper De Volkskrant (2 Jan 1965) obtained from delpher.nl"
   ]
  },
  {
   "cell_type": "code",
   "execution_count": null,
   "metadata": {},
   "outputs": [],
   "source": [
    "HAPAXRESULTFILENAME = \"/home/erikt/projects/teamproject2018-11/data/vk19650102/analysis4.txt\"\n",
    "HAPAXTITLE = \"Percentages of unique words (hapaxes) per article (OCR)\"\n",
    "\n",
    "hapaxScores = readScoreFile(HAPAXRESULTFILENAME)\n",
    "hapaxAggregates = aggregate(hapaxScores)\n",
    "makeBarPlot(hapaxAggregates,HAPAXTITLE)"
   ]
  },
  {
   "cell_type": "markdown",
   "metadata": {},
   "source": [
    "Task 3: create a scatter plot of the results of the first two tasks. The scatter plot contains a dot for each article on  the location defined by the percentage of known words (x-axis) and the percentage of unique words (y-axis).\n",
    "\n",
    "Data: same as in tasks 1 and 2"
   ]
  },
  {
   "cell_type": "code",
   "execution_count": null,
   "metadata": {},
   "outputs": [],
   "source": [
    "SCATTERTITLE = \"Known words percentage (horizontal) vs hapax percentage (vertical)\"\n",
    "\n",
    "def makeScatterPlot(dataX,dataY,title):\n",
    "    plt.figure(figsize=(15,8))\n",
    "    scatter = plt.scatter(dataX,dataY)\n",
    "    plt.title(SCATTERTITLE)\n",
    "    plt.savefig(OUTPUTIMAGEFILE)\n",
    "    plt.show()\n",
    "    \n",
    "makeScatterPlot(lexiconScores,hapaxScores,SCATTERTITLE)"
   ]
  },
  {
   "cell_type": "markdown",
   "metadata": {},
   "source": [
    "Task 4: compute the correlation coefficient of the results of the first two tasks. The closer the number is to 1 or -1, the stronger the two considered measures are correlated.\n",
    "\n",
    "Data: same as in tasks 1 and 2\n"
   ]
  },
  {
   "cell_type": "code",
   "execution_count": null,
   "metadata": {},
   "outputs": [],
   "source": [
    "import numpy as np\n",
    "\n",
    "print(\"correlation coefficient: \"+str(int(1000*np.corrcoef(lexiconScores,hapaxScores)[0][1])/1000))"
   ]
  }
 ],
 "metadata": {
  "kernelspec": {
   "display_name": "Python 3",
   "language": "python",
   "name": "python3"
  },
  "language_info": {
   "codemirror_mode": {
    "name": "ipython",
    "version": 3
   },
   "file_extension": ".py",
   "mimetype": "text/x-python",
   "name": "python",
   "nbconvert_exporter": "python",
   "pygments_lexer": "ipython3",
   "version": "3.6.1"
  }
 },
 "nbformat": 4,
 "nbformat_minor": 2
}
